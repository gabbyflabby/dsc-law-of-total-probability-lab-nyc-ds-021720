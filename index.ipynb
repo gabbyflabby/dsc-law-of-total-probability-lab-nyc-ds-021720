{
 "cells": [
  {
   "cell_type": "markdown",
   "metadata": {},
   "source": [
    "# Partitioning and Law of Total Probability - Lab\n",
    "\n",
    "## Introduction \n",
    "In this lab, you'll practice your knowledge of the law of total probability. In probability theory, the law (or formula) of total probability is a fundamental rule relating **marginal probabilities** to **conditional probabilities**.\n",
    "\n",
    "## Objectives\n",
    "\n",
    "You will be able to:\n",
    "\n",
    "* Differentiate between independent and dependent events\n",
    "* Perform partitioning based on known and unknown probabilities to solve a problem"
   ]
  },
  {
   "cell_type": "markdown",
   "metadata": {},
   "source": [
    "## Exercise 1\n",
    "Imagine you have two hats: one has 4 red balls and 6 green balls, the other has 6 red and 4 green. We toss a fair coin, if heads, you will pick a random ball from the first hat, if tails you will pick one from the second hat. \n",
    "\n",
    "What is the probability of getting a red ball?"
   ]
  },
  {
   "cell_type": "code",
   "execution_count": 1,
   "metadata": {},
   "outputs": [
    {
     "data": {
      "text/plain": [
       "0.5"
      ]
     },
     "execution_count": 1,
     "metadata": {},
     "output_type": "execute_result"
    }
   ],
   "source": [
    "# Your code here\n",
    "\n",
    "# S = All balls available\n",
    "# A1 = Hat 1\n",
    "# A2 = Hat 2\n",
    "# B = Red balls\n",
    "\n",
    "# P(B) = P(B*A1)+P(B*A2) = P(B|A1)P(A1) + P(B|A2)P(A2)\n",
    "\n",
    "p_a1 = p_a2 = 1/2\n",
    "p_b_given_a1 = 4/10\n",
    "p_b_given_a2 = 6/10\n",
    "\n",
    "p_b = p_b_given_a1*p_a1 + p_b_given_a2*p_a2\n",
    "p_b"
   ]
  },
  {
   "cell_type": "markdown",
   "metadata": {},
   "source": [
    "## Exercise 2\n",
    "In games where at least one goal is made, a soccer team wins 60% of its games when it scores the first goal, and 10% of its games when the opposing team \n",
    "scores first. \n",
    "\n",
    "If the team scores the first goal about 30% of the time, what fraction of the games does it win?"
   ]
  },
  {
   "cell_type": "code",
   "execution_count": 1,
   "metadata": {},
   "outputs": [
    {
     "data": {
      "text/plain": [
       "0.25"
      ]
     },
     "execution_count": 1,
     "metadata": {},
     "output_type": "execute_result"
    }
   ],
   "source": [
    "# Your code here\n",
    "\n",
    "# S = All games where one goal is made\n",
    "# A1 = home team scores first\n",
    "# A2 = opposing team scores first\n",
    "# B = Winning\n",
    "\n",
    "# P(B) = P(B*A1)+P(B*A2) = P(B|A1)P(A1) + P(B|A2)P(A2)\n",
    "\n",
    "p_a1 = 0.3\n",
    "p_a2 = 0.7\n",
    "p_b_given_a1 = 0.6\n",
    "p_b_given_a2 = 0.1\n",
    "\n",
    "p_b = p_b_given_a1*p_a1 + p_b_given_a2*p_a2\n",
    "p_b"
   ]
  },
  {
   "cell_type": "markdown",
   "metadata": {},
   "source": [
    "## Exercise 3"
   ]
  },
  {
   "cell_type": "markdown",
   "metadata": {},
   "source": [
    "In Europe, except for regular gas, cars often run on diesel as well. At a gas station in Paris; \n",
    "\n",
    "\n",
    "* 40% of the customers fill up with diesel (event G1) \n",
    "* 35% with gas \"Super 95\" (event G2)\n",
    "* 25% with gas \"Super 98\" (event G3). \n",
    "\n",
    "\n",
    "* 30% of the customers who buy diesel fill their tank completely (event F). \n",
    "* For \"Super 95\" and \"Super 98\", these numbers are  60% and 50%, respectively.\n",
    "\n",
    "\n",
    "- Compute the probability that the next customer completely fills their tank and buys Super 95. \n",
    "- Compute the probability that the next customer completely fills their tank\n",
    "- Given that the next customer fills their tank completely, compute the probability that they bought diesel. \n",
    "\n",
    "Hint: Consult the theorems for conditional probability, check for dependence or independence of events"
   ]
  },
  {
   "cell_type": "code",
   "execution_count": 3,
   "metadata": {},
   "outputs": [
    {
     "name": "stdout",
     "output_type": "stream",
     "text": [
      "0.21\n",
      "0.45499999999999996\n",
      "0.26373626373626374\n"
     ]
    }
   ],
   "source": [
    "# Your code here\n",
    "\n",
    "# S = Customers who fill up\n",
    "# G1 = Fill up with diesel = 0.4\n",
    "# G2 = Fill up with Super 95 = 0.35\n",
    "# G3 = Fill up with Super 98 = 0.25\n",
    "# F = Fill tank completely\n",
    "# F|G1 = Fill tank completely given they fill up with diesel = 0.3\n",
    "# F|G2 = Fill tank completely given they fill up with Super 95 = 0.6\n",
    "# F|G3 = Fill tank completely given they fill up with Super 98 = 0.5\n",
    "p_g1 = 0.4\n",
    "p_g2 = 0.35\n",
    "p_g3 = 0.25\n",
    "p_f_given_g1 = 0.3\n",
    "p_f_given_g2 = 0.6\n",
    "p_f_given_g3 = 0.5\n",
    "\n",
    "# P(F*G2) = Probability that customer fills tank completely and buys Super 95\n",
    "# = P(F|G2)P(G2)\n",
    "p_f_and_g2 = p_f_given_g2*p_g2\n",
    "print(p_f_and_g2)\n",
    "\n",
    "# P(F) = P(F*G1)+P(F*G2)+P(F*G3) = P(F|G1)P(G1) + P(F|G2)P(G2) + P(F|G3)P(G3)\n",
    "p_f = p_f_given_g1*p_g1 + p_f_and_g2 + p_f_given_g3*p_g3\n",
    "print(p_f)\n",
    "\n",
    "# P(G1|F) = Probability that customer bought diesel given that they filled tank completely\n",
    "# = P(F*G1)/P(F)\n",
    "# P(F*G1) = P(F|G1)P(G1)\n",
    "p_f_and_g1 = p_f_given_g1*p_g1\n",
    "p_g1_given_f = p_f_and_g1/p_f\n",
    "print(p_g1_given_f)"
   ]
  },
  {
   "cell_type": "markdown",
   "metadata": {},
   "source": [
    "## Exercise 4"
   ]
  },
  {
   "cell_type": "markdown",
   "metadata": {},
   "source": [
    "United Airlines operates flights from JFK to Amsterdam, to Brussels, and to Copenhagen. As you may know, flights are overbooked fairly often. Let's denote the probability of the flight to Amsterdam being overbooked equal to 40%, the probability of the flight to Brussels being overbooked equal to 25%, and the probability of the flight to Copenhagen being overbooked equal to 35%. You can assume that these events of overbooking are independent events."
   ]
  },
  {
   "cell_type": "markdown",
   "metadata": {},
   "source": [
    "- Compute the probability that all the flights are overbooked.\n",
    "- Compute the probability of having at least one flight which is not overbooked.\n",
    "- Compute the probability that exactly one flight is overbooked."
   ]
  },
  {
   "cell_type": "code",
   "execution_count": 8,
   "metadata": {},
   "outputs": [
    {
     "name": "stdout",
     "output_type": "stream",
     "text": [
      "0.034999999999999996\n",
      "0.965\n",
      "0.45\n"
     ]
    }
   ],
   "source": [
    "# Your code here\n",
    "\n",
    "# S = All Flights\n",
    "# A1 = Flights to Amsterdam \n",
    "# A2 = Flights to Brussels\n",
    "# A3 = Flights to Copenhagen\n",
    "# B = Overbooked Flights\n",
    "p_b_and_a1 = 0.4\n",
    "p_b_and_a2 = 0.25\n",
    "p_b_and_a3 = 0.35\n",
    "\n",
    "# P(B) = P(B*A1)+P(B*A2)+P(B*A3)\n",
    "p_b = p_b_and_a1*p_b_and_a2*p_b_and_a3\n",
    "print(p_b)\n",
    "\n",
    "# P(B') = 1 - P(B)\n",
    "p_bnot = 1 - p_b\n",
    "print(p_bnot)\n",
    "\n",
    "# 𝑃(exactly one of{𝐴,𝐵,𝐶}) = 𝑃(𝐴∩¬𝐵∩¬𝐶)+𝑃(¬𝐴∩𝐵∩¬𝐶)+𝑃(¬𝐴∩¬𝐵∩𝐶)\n",
    "\n",
    "# P(exactly one of {B*A1,B*A2,B*A3}) = P((B*A1)*(B*A2)'*(B*A3)')+P((B*A1)'*(B*A2)*(B*A3)')+P((B*A1)'*(B*A2)'*(B*A3))\n",
    "p_b_and_a1_not = 1 - p_b_and_a1\n",
    "p_b_and_a2_not = 1 - p_b_and_a2\n",
    "p_b_and_a3_not = 1 - p_b_and_a3\n",
    "p_exactly_one = p_b_and_a1*p_b_and_a2_not*p_b_and_a3_not + p_b_and_a1_not*p_b_and_a2*p_b_and_a3_not + p_b_and_a1_not*p_b_and_a2_not*p_b_and_a3\n",
    "print(p_exactly_one)"
   ]
  },
  {
   "cell_type": "markdown",
   "metadata": {},
   "source": [
    "## Exercise 5\n",
    "You have three bags that each contain 100 marbles:\n",
    "\n",
    "- Bag 1 has 75 red and 25 blue marbles;\n",
    "- Bag 2 has 60 red and 40 blue marbles;\n",
    "- Bag 3 has 45 red and 55 blue marbles.\n",
    "\n",
    "You choose one of the bags at random and then pick a marble from the chosen bag, also at random. \n",
    "\n",
    "What is the probability that the chosen marble is red?\n"
   ]
  },
  {
   "cell_type": "code",
   "execution_count": 17,
   "metadata": {},
   "outputs": [],
   "source": [
    "# Your code here\n",
    "\n",
    "# S = All marbles available\n",
    "# A1 = Bag 1\n",
    "# A2 = Bag 2\n",
    "# A3 = Bag 3\n",
    "# B = Red marbles\n",
    "\n",
    "# P(B) = P(B*A1)+P(B*A2)+P(B*A3) = P(B|A1)P(A1) + P(B|A2)P(A2) + P(B|A3)P(A3)\n",
    "\n",
    "p_a1 = p_a2 = p_a3 = 1/3\n",
    "p_b_given_a1 = 75/100\n",
    "p_b_given_a2 = 60/100\n",
    "p_b_given_a"
   ]
  },
  {
   "cell_type": "markdown",
   "metadata": {},
   "source": [
    "## Summary \n",
    "\n",
    "In this lab, you practiced conditional probability and its theorem with some simple problems. The key takeaway from this lab is to be able to identify random events as dependent or independent and calculating the probability of their occurrence using appropriate methods. Next, you'll take this knowledge a step further and run simulations with conditional and total probability. "
   ]
  }
 ],
 "metadata": {
  "kernelspec": {
   "display_name": "Python 3",
   "language": "python",
   "name": "python3"
  },
  "language_info": {
   "codemirror_mode": {
    "name": "ipython",
    "version": 3
   },
   "file_extension": ".py",
   "mimetype": "text/x-python",
   "name": "python",
   "nbconvert_exporter": "python",
   "pygments_lexer": "ipython3",
   "version": "3.6.9"
  },
  "toc": {
   "base_numbering": 1,
   "nav_menu": {},
   "number_sections": true,
   "sideBar": true,
   "skip_h1_title": false,
   "title_cell": "Table of Contents",
   "title_sidebar": "Contents",
   "toc_cell": false,
   "toc_position": {},
   "toc_section_display": true,
   "toc_window_display": false
  }
 },
 "nbformat": 4,
 "nbformat_minor": 2
}
